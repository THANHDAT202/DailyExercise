{
  "nbformat": 4,
  "nbformat_minor": 0,
  "metadata": {
    "colab": {
      "provenance": [],
      "authorship_tag": "ABX9TyM90ujVgjsbaFHj+uHpBM3F",
      "include_colab_link": true
    },
    "kernelspec": {
      "name": "python3",
      "display_name": "Python 3"
    },
    "language_info": {
      "name": "python"
    }
  },
  "cells": [
    {
      "cell_type": "markdown",
      "metadata": {
        "id": "view-in-github",
        "colab_type": "text"
      },
      "source": [
        "<a href=\"https://colab.research.google.com/github/THANHDAT202/DailyExercise/blob/main/AI_24_03_23.ipynb\" target=\"_parent\"><img src=\"https://colab.research.google.com/assets/colab-badge.svg\" alt=\"Open In Colab\"/></a>"
      ]
    },
    {
      "cell_type": "code",
      "execution_count": 1,
      "metadata": {
        "colab": {
          "base_uri": "https://localhost:8080/"
        },
        "id": "lQF_Jrh8p2Jc",
        "outputId": "79cbe91a-9f8e-4a73-a25f-34b83b56777c"
      },
      "outputs": [
        {
          "output_type": "stream",
          "name": "stdout",
          "text": [
            "Looking in indexes: https://pypi.org/simple, https://us-python.pkg.dev/colab-wheels/public/simple/\n",
            "Collecting sklearn\n",
            "  Downloading sklearn-0.0.post4.tar.gz (3.6 kB)\n",
            "  \u001b[1;31merror\u001b[0m: \u001b[1msubprocess-exited-with-error\u001b[0m\n",
            "  \n",
            "  \u001b[31m×\u001b[0m \u001b[32mpython setup.py egg_info\u001b[0m did not run successfully.\n",
            "  \u001b[31m│\u001b[0m exit code: \u001b[1;36m1\u001b[0m\n",
            "  \u001b[31m╰─>\u001b[0m See above for output.\n",
            "  \n",
            "  \u001b[1;35mnote\u001b[0m: This error originates from a subprocess, and is likely not a problem with pip.\n",
            "  Preparing metadata (setup.py) ... \u001b[?25l\u001b[?25herror\n",
            "\u001b[1;31merror\u001b[0m: \u001b[1mmetadata-generation-failed\u001b[0m\n",
            "\n",
            "\u001b[31m×\u001b[0m Encountered error while generating package metadata.\n",
            "\u001b[31m╰─>\u001b[0m See above for output.\n",
            "\n",
            "\u001b[1;35mnote\u001b[0m: This is an issue with the package mentioned above, not pip.\n",
            "\u001b[1;36mhint\u001b[0m: See above for details.\n"
          ]
        }
      ],
      "source": [
        "pip install sklearn\n"
      ]
    },
    {
      "cell_type": "code",
      "source": [
        "from sklearn.linear_model import Perceptron\n",
        "x = [[0,0],[1,0],[0,1],[1,1]]\n",
        "y = [0,1,1,1]\n",
        "model = Perceptron()\n",
        "model.fit(x,y)\n",
        "model.score(x,y)\n"
      ],
      "metadata": {
        "colab": {
          "base_uri": "https://localhost:8080/"
        },
        "id": "3Snzu49gIErw",
        "outputId": "d50d64d2-f3ca-4eed-b78b-bbf9bde6dc51"
      },
      "execution_count": 2,
      "outputs": [
        {
          "output_type": "execute_result",
          "data": {
            "text/plain": [
              "1.0"
            ]
          },
          "metadata": {},
          "execution_count": 2
        }
      ]
    },
    {
      "cell_type": "code",
      "source": [
        "from sklearn.linear_model import Perceptron\n",
        "x1 = [[-0.5, -0.5],[10,-2],[-1, 0.8],[3,5],[1,0.2],[-0.1,0.5]]\n",
        "y1 = model.predict(x1)\n",
        "model = Perceptron()\n",
        "model.fit(x1,y1)\n",
        "model.score(x1,y1)\n",
        "     "
      ],
      "metadata": {
        "colab": {
          "base_uri": "https://localhost:8080/"
        },
        "id": "AeeN5rLUIKFo",
        "outputId": "d88f3385-5ba3-40d0-f96e-53377f6ca3e6"
      },
      "execution_count": 3,
      "outputs": [
        {
          "output_type": "execute_result",
          "data": {
            "text/plain": [
              "1.0"
            ]
          },
          "metadata": {},
          "execution_count": 3
        }
      ]
    },
    {
      "cell_type": "code",
      "source": [
        "import pandas as pd\n",
        "import numpy as np\n",
        "\n",
        "dataframe = pd.read_csv('crabs.csv')\n",
        "dataframe.head()\n",
        "crab_B = dataframe\n",
        "crab_B.sex = crab_B.sex.apply(lambda x: x.replace(\"M\",\"1\"))\n",
        "crab_B.sex = crab_B.sex.apply(lambda x: x.replace(\"F\",\"0\"))\n",
        "print(crab_B)"
      ],
      "metadata": {
        "colab": {
          "base_uri": "https://localhost:8080/"
        },
        "id": "xoTbD9uxIW0O",
        "outputId": "a1bc1713-bbef-46d5-cd00-6bd631302133"
      },
      "execution_count": 10,
      "outputs": [
        {
          "output_type": "stream",
          "name": "stdout",
          "text": [
            "     Unnamed: 0 sp sex  index    FL    RW    CL    CW    BD\n",
            "0             1  B   1      1   8.1   6.7  16.1  19.0   7.0\n",
            "1             2  B   1      2   8.8   7.7  18.1  20.8   7.4\n",
            "2             3  B   1      3   9.2   7.8  19.0  22.4   7.7\n",
            "3             4  B   1      4   9.6   7.9  20.1  23.1   8.2\n",
            "4             5  B   1      5   9.8   8.0  20.3  23.0   8.2\n",
            "..          ... ..  ..    ...   ...   ...   ...   ...   ...\n",
            "195         196  O   0     46  21.4  18.0  41.2  46.2  18.7\n",
            "196         197  O   0     47  21.7  17.1  41.7  47.2  19.6\n",
            "197         198  O   0     48  21.9  17.2  42.6  47.4  19.5\n",
            "198         199  O   0     49  22.5  17.2  43.0  48.7  19.8\n",
            "199         200  O   0     50  23.1  20.2  46.2  52.5  21.1\n",
            "\n",
            "[200 rows x 9 columns]\n"
          ]
        }
      ]
    },
    {
      "cell_type": "code",
      "source": [
        "x = crab_B.drop(['sp','sex','index'],axis = 1)\n",
        "print(x)\n",
        "y = crab_B.sex\n",
        "print(y)"
      ],
      "metadata": {
        "colab": {
          "base_uri": "https://localhost:8080/"
        },
        "id": "AFcZQGGqJ1T2",
        "outputId": "26e1d5c5-9a98-4f76-90c2-79069c1085b1"
      },
      "execution_count": 12,
      "outputs": [
        {
          "output_type": "stream",
          "name": "stdout",
          "text": [
            "     Unnamed: 0    FL    RW    CL    CW    BD\n",
            "0             1   8.1   6.7  16.1  19.0   7.0\n",
            "1             2   8.8   7.7  18.1  20.8   7.4\n",
            "2             3   9.2   7.8  19.0  22.4   7.7\n",
            "3             4   9.6   7.9  20.1  23.1   8.2\n",
            "4             5   9.8   8.0  20.3  23.0   8.2\n",
            "..          ...   ...   ...   ...   ...   ...\n",
            "195         196  21.4  18.0  41.2  46.2  18.7\n",
            "196         197  21.7  17.1  41.7  47.2  19.6\n",
            "197         198  21.9  17.2  42.6  47.4  19.5\n",
            "198         199  22.5  17.2  43.0  48.7  19.8\n",
            "199         200  23.1  20.2  46.2  52.5  21.1\n",
            "\n",
            "[200 rows x 6 columns]\n",
            "0      1\n",
            "1      1\n",
            "2      1\n",
            "3      1\n",
            "4      1\n",
            "      ..\n",
            "195    0\n",
            "196    0\n",
            "197    0\n",
            "198    0\n",
            "199    0\n",
            "Name: sex, Length: 200, dtype: object\n"
          ]
        }
      ]
    },
    {
      "cell_type": "code",
      "source": [
        "from sklearn.model_selection import train_test_split\n",
        "from sklearn.preprocessing import StandardScaler\n",
        "from sklearn.metrics import accuracy_score\n",
        "\n",
        "x_train, x_test, y_train, y_test = train_test_split(x,y,test_size=0.3)\n",
        "sc = StandardScaler()\n",
        "sc.fit(x_train)\n",
        "x_train = sc.transform(x_train)\n",
        "x_test = sc.transform(x_test)\n",
        "model = Perceptron(max_iter = 1000, eta0 = 0.2, random_state = 0)\n",
        "#model: số lần học\n",
        "model.fit(x_train, y_train)\n",
        "y_pred = model.predict(x_test)\n",
        "print(y_pred)\n",
        "print(y_test)\n",
        "print(\"Độ chính xác của mô hình: \", accuracy_score(y_test, y_pred))\n",
        "     "
      ],
      "metadata": {
        "colab": {
          "base_uri": "https://localhost:8080/"
        },
        "id": "YvrgseJBLMQt",
        "outputId": "b33009ff-7588-41ff-f6fe-f571b5fd1179"
      },
      "execution_count": 17,
      "outputs": [
        {
          "output_type": "stream",
          "name": "stdout",
          "text": [
            "['1' '1' '1' '1' '0' '1' '0' '0' '1' '0' '0' '0' '1' '0' '1' '1' '0' '0'\n",
            " '1' '1' '1' '0' '0' '0' '1' '1' '0' '1' '0' '0' '1' '0' '1' '1' '0' '1'\n",
            " '1' '0' '0' '0' '0' '1' '0' '0' '0' '0' '1' '0' '0' '1' '1' '0' '1' '0'\n",
            " '0' '1' '1' '0' '1' '1']\n",
            "19     1\n",
            "29     1\n",
            "5      1\n",
            "32     1\n",
            "91     0\n",
            "54     0\n",
            "198    0\n",
            "170    0\n",
            "8      1\n",
            "59     0\n",
            "185    0\n",
            "90     0\n",
            "144    1\n",
            "87     0\n",
            "124    1\n",
            "46     1\n",
            "66     0\n",
            "195    0\n",
            "123    1\n",
            "116    1\n",
            "36     1\n",
            "71     0\n",
            "83     0\n",
            "178    0\n",
            "50     0\n",
            "118    1\n",
            "163    0\n",
            "110    1\n",
            "78     0\n",
            "196    0\n",
            "7      1\n",
            "61     0\n",
            "112    1\n",
            "37     1\n",
            "154    0\n",
            "140    1\n",
            "2      1\n",
            "175    0\n",
            "62     0\n",
            "173    0\n",
            "77     0\n",
            "31     1\n",
            "153    0\n",
            "156    0\n",
            "188    0\n",
            "197    0\n",
            "12     1\n",
            "174    0\n",
            "57     0\n",
            "142    1\n",
            "48     1\n",
            "97     0\n",
            "108    1\n",
            "96     0\n",
            "92     0\n",
            "100    1\n",
            "16     1\n",
            "72     0\n",
            "10     1\n",
            "20     1\n",
            "Name: sex, dtype: object\n",
            "Độ chính xác của mô hình:  0.9666666666666667\n"
          ]
        }
      ]
    },
    {
      "cell_type": "code",
      "source": [],
      "metadata": {
        "id": "qhf98MknLu0r"
      },
      "execution_count": null,
      "outputs": []
    }
  ]
}